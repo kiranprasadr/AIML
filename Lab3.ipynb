{
 "cells": [
  {
   "cell_type": "code",
   "execution_count": 1,
   "id": "cd06d871",
   "metadata": {},
   "outputs": [
    {
     "name": "stdout",
     "output_type": "stream",
     "text": [
      "Find specific:\n",
      "['japan', '?', '?', '?', 'economy']\n",
      "Find general:\n",
      "[['japan', '?', '?', '?', '?']]\n"
     ]
    }
   ],
   "source": [
    "import csv\n",
    "file=open(\"car.csv\")\n",
    "data=list(csv.reader(file))[1:]\n",
    "concepts=[]\n",
    "target=[]\n",
    "for i in data:\n",
    "    concepts.append(i[:-1])\n",
    "    target.append(i[-1])\n",
    "sh=['0']*len(concepts[0])\n",
    "gh=[['?'for i in range(len(sh))] for i in range(len(sh))]\n",
    "for i,instance in enumerate(concepts):\n",
    "    if target[i]==\"yes\":\n",
    "        for x in range(len(sh)):\n",
    "            if sh[x]=='0':\n",
    "                sh[x]=instance[x]\n",
    "            elif instance[x]!=sh[x]:\n",
    "                sh[x]='?'\n",
    "                gh[x][x]='?'\n",
    "    if (target[i]==\"no\"):\n",
    "        for x in range(len(sh)):\n",
    "            if instance[x]!=sh[x]:\n",
    "                gh[x][x]=sh[x]\n",
    "            else:\n",
    "                gh[x][x]='?'\n",
    "indices=[i for i,val in enumerate(gh) if val==['?','?','?','?','?']]\n",
    "for i in indices:\n",
    "    gh.remove(['?','?','?','?','?'])\n",
    "print(\"Find specific:\",sh,sep=\"\\n\")\n",
    "print(\"Find general:\",gh,sep=\"\\n\")"
   ]
  },
  {
   "cell_type": "code",
   "execution_count": null,
   "id": "0d6cafbb",
   "metadata": {},
   "outputs": [],
   "source": []
  }
 ],
 "metadata": {
  "kernelspec": {
   "display_name": "Python 3",
   "language": "python",
   "name": "python3"
  },
  "language_info": {
   "codemirror_mode": {
    "name": "ipython",
    "version": 3
   },
   "file_extension": ".py",
   "mimetype": "text/x-python",
   "name": "python",
   "nbconvert_exporter": "python",
   "pygments_lexer": "ipython3",
   "version": "3.8.8"
  }
 },
 "nbformat": 4,
 "nbformat_minor": 5
}
